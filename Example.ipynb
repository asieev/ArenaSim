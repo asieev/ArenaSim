{
 "cells": [
  {
   "cell_type": "code",
   "execution_count": 69,
   "metadata": {},
   "outputs": [],
   "source": [
    "using ArenaSim\n",
    "using Statistics"
   ]
  },
  {
   "cell_type": "code",
   "execution_count": 70,
   "metadata": {},
   "outputs": [],
   "source": [
    "files = readdir(joinpath(@__DIR__, \"decks\"));\n",
    "decks = map( fn -> ArenaSim.deckreader_mtga_format(joinpath(@__DIR__, \"decks\", fn)), files);"
   ]
  },
  {
   "cell_type": "code",
   "execution_count": 71,
   "metadata": {
    "scrolled": false
   },
   "outputs": [],
   "source": [
    "xs = shufflesim(deckinfo.(decks); parameters = SimParameters(), reps = 500, batchsize = 20);"
   ]
  },
  {
   "cell_type": "code",
   "execution_count": 72,
   "metadata": {},
   "outputs": [],
   "source": [
    "packs = mean(reduce(+, values(xs.packs_opened)), dims = 1)';"
   ]
  },
  {
   "cell_type": "code",
   "execution_count": 74,
   "metadata": {},
   "outputs": [
    {
     "data": {
      "text/plain": [
       "13×10 Array{Any,2}:\n",
       "   \"Packs\"    \"Cards\"    \"NeedBefore\"   \"NeedAfter\"    \"WCs\"   \"Packs\"   \"ICRs\"    \"WCsCumul.\"   \"PacksCumu.\"   \"ICRCumul.\"\n",
       " 92.6242    25.0       24.0            0.0           20.0     4.2       0.082    20.0           4.2            0.082       \n",
       " 87.2445    26.0       19.0            0.0           16.0     3.6       0.072    19.0           5.6            0.15        \n",
       " 71.6783    26.0       16.0            0.0           13.0     2.7       0.056    19.0           6.3            0.21        \n",
       " 58.5002    26.0       13.0            0.0           11.0     2.0       0.045    18.0           6.9            0.25        \n",
       " 46.5406    26.0       10.0            0.0            8.6     1.6       0.031    18.0           7.3            0.28        \n",
       " 37.9007    26.0        8.3            0.0            7.2     1.3       0.024    18.0           8.0            0.3         \n",
       " 32.4627    26.0        7.1            0.0            6.3     0.97      0.019    18.0           8.0            0.31        \n",
       " 27.2886    26.0        6.0            0.0            5.3     0.74      0.016    18.0           8.1            0.33        \n",
       " 23.9791    26.0        5.3            0.0            4.7     0.7       0.012    18.0           8.2            0.35        \n",
       " 21.4457    25.0        4.6            0.0            4.1     0.6       0.011    18.0           8.4            0.35        \n",
       " 19.1447    26.0        4.2            0.0            3.7     0.6       0.0086   18.0           8.8            0.35        \n",
       " 16.3954    26.0        3.5            0.0            3.1     0.49      0.0087   19.0           8.6            0.36        "
      ]
     },
     "metadata": {},
     "output_type": "display_data"
    }
   ],
   "source": [
    "header = [\"Packs\" \"Cards\" \"NeedBefore\" \"NeedAfter\" \"WCs\" \"Packs\" \"ICRs\" \"WCsCumul.\" \"PacksCumu.\" \"ICRCumul.\"]\n",
    "table = round.(mean(xs.card_sources, dims = 1)[1,:,3,:]; sigdigits = 2)\n",
    "withenv(\"COLUMNS\" => 200) do\n",
    "    display(vcat(header,hcat(packs,table)))\n",
    "end"
   ]
  }
 ],
 "metadata": {
  "kernelspec": {
   "display_name": "Julia 0.7.0-beta2",
   "language": "julia",
   "name": "julia-0.7"
  },
  "language_info": {
   "file_extension": ".jl",
   "mimetype": "application/julia",
   "name": "julia",
   "version": "0.7.0"
  }
 },
 "nbformat": 4,
 "nbformat_minor": 2
}
