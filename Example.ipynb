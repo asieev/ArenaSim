{
 "cells": [
  {
   "cell_type": "code",
   "execution_count": 1,
   "metadata": {},
   "outputs": [],
   "source": [
    "using ArenaSim\n",
    "using Statistics"
   ]
  },
  {
   "cell_type": "code",
   "execution_count": 2,
   "metadata": {},
   "outputs": [],
   "source": [
    "files = readdir(joinpath(@__DIR__, \"decks\"));\n",
    "decks = map( fn -> ArenaSim.deckreader_mtga_format(joinpath(@__DIR__, \"decks\", fn)), files);"
   ]
  },
  {
   "cell_type": "code",
   "execution_count": 3,
   "metadata": {
    "scrolled": false
   },
   "outputs": [],
   "source": [
    "xs = shufflesim(deckinfo.(decks); parameters = SimParameters(), reps = 500, batchsize = 20);"
   ]
  },
  {
   "cell_type": "code",
   "execution_count": 4,
   "metadata": {},
   "outputs": [],
   "source": [
    "packs = mean(reduce(+, values(xs.packs_opened)), dims = 1)';"
   ]
  },
  {
   "cell_type": "code",
   "execution_count": 9,
   "metadata": {},
   "outputs": [
    {
     "data": {
      "text/plain": [
       "13×8 Array{Any,2}:\n",
       "   \"Packs\"    \"Need\"    \"WCs\"   \"Packs\"   \"ICRs\"    \"WCsCumul.\"   \"PacksCumu.\"   \"ICRCumul.\"\n",
       " 94.117     24.0      20.0     4.3       0.08     20.0           4.3            0.08        \n",
       " 85.6705    19.0      16.0     3.5       0.075    19.0           5.7            0.16        \n",
       " 68.8372    15.0      12.0     2.6       0.053    19.0           6.4            0.2         \n",
       " 57.0098    12.0      10.0     2.0       0.043    18.0           7.0            0.25        \n",
       " 50.2743    11.0       9.4     1.7       0.032    18.0           7.3            0.27        \n",
       " 37.533      8.2       7.2     1.2       0.026    18.0           7.6            0.31        \n",
       " 32.3869     7.1       6.3     0.94      0.019    18.0           8.0            0.31        \n",
       " 28.3938     6.3       5.5     0.88      0.016    18.0           8.2            0.33        \n",
       " 24.1367     5.3       4.7     0.73      0.014    18.0           8.5            0.35        \n",
       " 20.0915     4.3       3.8     0.57      0.011    19.0           8.4            0.35        \n",
       " 19.4142     4.2       3.7     0.58      0.0093   18.0           8.4            0.35        \n",
       " 18.1165     3.9       3.4     0.57      0.0081   18.0           8.5            0.37        "
      ]
     },
     "metadata": {},
     "output_type": "display_data"
    }
   ],
   "source": [
    "header = [\"Packs\" \"Cards\" \"Need\" \"NeedAfter\" \"WCs\" \"Packs\" \"ICRs\" \"WCsCumul.\" \"PacksCumu.\" \"ICRCumul.\"]\n",
    "table = round.(mean(xs.card_sources, dims = 1)[1,:,3,:]; sigdigits = 2)\n",
    "withenv(\"COLUMNS\" => 200) do\n",
    "    display(vcat(header,hcat(packs,table))[:, [1,3,5:10...]])\n",
    "end"
   ]
  }
 ],
 "metadata": {
  "kernelspec": {
   "display_name": "Julia 0.7.0-beta2",
   "language": "julia",
   "name": "julia-0.7"
  },
  "language_info": {
   "file_extension": ".jl",
   "mimetype": "application/julia",
   "name": "julia",
   "version": "0.7.0"
  }
 },
 "nbformat": 4,
 "nbformat_minor": 2
}
