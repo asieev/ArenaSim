{
 "cells": [
  {
   "cell_type": "markdown",
   "metadata": {},
   "source": [
    "# Preliminary analysis of effects of \"no duplicates\" in packs and ICRs\n",
    "\n",
    "***This is a speculative analysis that has not been thoroughly bug-tested! Results are provided without warranty or guarantee of correctness.  It is also not applicable to the live version of MTGA but rather a hypothetical version at some point in the future.***\n",
    "\n",
    "## TLDR\n",
    "Under a patient wildcard spending strategy, there's minimal difference between the current system and the proposed one in the scenario of going from a new account to the first several constructed decks, whether or not the spending strategy involves chasing ICRs.  In a longer-form scenario of collecting a larger proportion of the available cards, there is a larger difference, with the degree of difference depending on the extent to which ICRs are utilized.  For a more incremental spending strategy, there is likely to be a slightly larger advantage to duplicate prevention, although this is not shown here.\n",
    "\n",
    "## Specific assumptions of \"no duplicates\"\n",
    "1. Once 4 of a specific printing of a card is achieved, it is removed from the possible outcomes of ICRs of that rarity and packs from that set and rarity. All remaining outcomes are equally probable within a given ICR rarity or pack slot.\n",
    "2. If there are no remaining outcomes, we revert back to filling up the vault with the current percentages."
   ]
  },
  {
   "cell_type": "markdown",
   "metadata": {},
   "source": [
    "# Case 1: Building decks from new collection"
   ]
  },
  {
   "cell_type": "code",
   "execution_count": 1,
   "metadata": {},
   "outputs": [],
   "source": [
    "using ArenaSim\n",
    "using Statistics\n",
    "using Distributions\n",
    "import Random"
   ]
  },
  {
   "cell_type": "markdown",
   "metadata": {},
   "source": [
    "### Deck selection\n",
    "The following decks (mainboard) were taken from [MtGGoldfish](https://www.mtggoldfish.com/metagame/standard)"
   ]
  },
  {
   "cell_type": "code",
   "execution_count": 2,
   "metadata": {
    "scrolled": true
   },
   "outputs": [
    {
     "data": {
      "text/plain": [
       "12-element Array{String,1}:\n",
       " \"Deck - Bant Nexus.txt\"                   \n",
       " \"Deck - Black-Green Constrictor.txt\"      \n",
       " \"Deck - Blue-Black Midrange.txt\"          \n",
       " \"Deck - Blue-Green Stompy.txt\"            \n",
       " \"Deck - Esper Control.txt\"                \n",
       " \"Deck - Grixis Midrange.txt\"              \n",
       " \"Deck - Mono-Blue Artifacts.txt\"          \n",
       " \"Deck - Mono-Blue Tempo.txt\"              \n",
       " \"Deck - Mono-Red Flame of Keld.txt\"       \n",
       " \"Deck - R_B Aggro.txt\"                    \n",
       " \"Deck - White-Black Knights.txt\"          \n",
       " \"Deck - White-Blue God Pharaoh's Gift.txt\""
      ]
     },
     "execution_count": 2,
     "metadata": {},
     "output_type": "execute_result"
    }
   ],
   "source": [
    "deckdir = joinpath(@__DIR__, \"decks\", \"2018-09-20\");\n",
    "files = readdir(deckdir);\n",
    "filter!(fn -> isfile(joinpath(deckdir, fn)), files);\n",
    "files"
   ]
  },
  {
   "cell_type": "markdown",
   "metadata": {},
   "source": [
    "Here are the number of rares in each deck:"
   ]
  },
  {
   "cell_type": "code",
   "execution_count": 3,
   "metadata": {
    "scrolled": false
   },
   "outputs": [
    {
     "data": {
      "text/plain": [
       "12-element Array{Tuple{String,Int64},1}:\n",
       " (\"Deck - Bant Nexus.txt\", 21)                   \n",
       " (\"Deck - Black-Green Constrictor.txt\", 26)      \n",
       " (\"Deck - Blue-Black Midrange.txt\", 22)          \n",
       " (\"Deck - Blue-Green Stompy.txt\", 20)            \n",
       " (\"Deck - Esper Control.txt\", 27)                \n",
       " (\"Deck - Grixis Midrange.txt\", 28)              \n",
       " (\"Deck - Mono-Blue Artifacts.txt\", 19)          \n",
       " (\"Deck - Mono-Blue Tempo.txt\", 8)               \n",
       " (\"Deck - Mono-Red Flame of Keld.txt\", 16)       \n",
       " (\"Deck - R_B Aggro.txt\", 28)                    \n",
       " (\"Deck - White-Black Knights.txt\", 9)           \n",
       " (\"Deck - White-Blue God Pharaoh's Gift.txt\", 18)"
      ]
     },
     "execution_count": 3,
     "metadata": {},
     "output_type": "execute_result"
    }
   ],
   "source": [
    "decks = map( fn -> ArenaSim.deckreader_mtgo_format(joinpath(deckdir, fn); strip_sideboard = true), files);\n",
    "collect(zip(files, [ sum(x.amount * ( minimum(y->y.rarity, x.prints) == 3 ? 1 : 0) for x in z) for z in deckinfo.(decks) ]))"
   ]
  },
  {
   "cell_type": "markdown",
   "metadata": {},
   "source": [
    "### Generating ICR rarities for someone who plays Quick Constructed\n",
    "\n",
    "Assuming the following probabilities for an ICR of a given \"guaranteed rarity\" to be each of the possible rarities"
   ]
  },
  {
   "cell_type": "code",
   "execution_count": 4,
   "metadata": {},
   "outputs": [],
   "source": [
    "uncommon_icr_probs = [0, 0.85, 0.10, 0.05];\n",
    "rare_icr_probs = [0,0,0.85,0.15];"
   ]
  },
  {
   "cell_type": "code",
   "execution_count": 5,
   "metadata": {},
   "outputs": [],
   "source": [
    "first_icr = Dict( (w,uncommon_icr_probs) for w in 0:7)\n",
    "second_icr = deepcopy(first_icr)\n",
    "second_icr[6] = rare_icr_probs\n",
    "second_icr[7] = rare_icr_probs\n",
    "third_icr = deepcopy(second_icr)\n",
    "for i in 4:5\n",
    "    third_icr[i] = rare_icr_probs\n",
    "end"
   ]
  },
  {
   "cell_type": "markdown",
   "metadata": {},
   "source": [
    "With a 50% winrate, the expected rarity of each of the 3 ICRs, arranged from lowest to highest value is"
   ]
  },
  {
   "cell_type": "code",
   "execution_count": 6,
   "metadata": {},
   "outputs": [
    {
     "data": {
      "text/plain": [
       "([0.0, 0.85, 0.1, 0.05], [0.0, 0.727148, 0.208398, 0.0644531], [0.0, 0.557813, 0.357812, 0.084375])"
      ]
     },
     "execution_count": 6,
     "metadata": {},
     "output_type": "execute_result"
    }
   ],
   "source": [
    "winrate = 0.5\n",
    "avg_first_icr = sum( pdfnegbin_truncated(k; p = winrate, r = 3, maxwins = 7) .* first_icr[k] for k in 0:7 )\n",
    "avg_second_icr = sum( pdfnegbin_truncated(k; p = winrate, r = 3, maxwins = 7) .* second_icr[k] for k in 0:7 )\n",
    "avg_third_icr = sum( pdfnegbin_truncated(k; p = winrate, r = 3, maxwins = 7) .* third_icr[k] for k in 0:7 )\n",
    "\n",
    "avg_first_icr, avg_second_icr, avg_third_icr"
   ]
  },
  {
   "cell_type": "markdown",
   "metadata": {},
   "source": [
    "It costs this player about 90 gold per run."
   ]
  },
  {
   "cell_type": "code",
   "execution_count": 7,
   "metadata": {
    "scrolled": true
   },
   "outputs": [
    {
     "data": {
      "text/plain": [
       "410.15625"
      ]
     },
     "execution_count": 7,
     "metadata": {},
     "output_type": "execute_result"
    }
   ],
   "source": [
    "   qc_payoff = Dict(\n",
    "        0 => 100,\n",
    "        1 => 200,\n",
    "        2 => 300,\n",
    "        3 => 400,\n",
    "        4 => 500,\n",
    "        5 => 600,\n",
    "        6 => 800,\n",
    "        7 => 1000\n",
    "    )\n",
    "\n",
    "avg_payoff = sum(pdfnegbin_truncated(k; p = winrate, r = 3, maxwins = 7) * qc_payoff[k] for k in 0:7)"
   ]
  },
  {
   "cell_type": "markdown",
   "metadata": {},
   "source": [
    "Which is about 7.5% of their daily income if their quests average 600g and they get 600 out of the 750 non-quest gold:"
   ]
  },
  {
   "cell_type": "code",
   "execution_count": 8,
   "metadata": {},
   "outputs": [
    {
     "data": {
      "text/plain": [
       "0.07486979166666667"
      ]
     },
     "execution_count": 8,
     "metadata": {},
     "output_type": "execute_result"
    }
   ],
   "source": [
    "(500 - avg_payoff) / (600 + 600)"
   ]
  },
  {
   "cell_type": "markdown",
   "metadata": {},
   "source": [
    "Consider two ICR scenarios:\n",
    "1. Do 1 quick constructed run everyday, so that there are approximately 7 sets of 3 ICRs with the above rarity distributions per 10 packs (buy about 1 pack per day and then 3 weekly packs)\n",
    "2. Don't get any ICRs"
   ]
  },
  {
   "cell_type": "code",
   "execution_count": 9,
   "metadata": {
    "scrolled": true
   },
   "outputs": [],
   "source": [
    "icrvec = [[ Categorical(avg_first_icr), Categorical(avg_second_icr), Categorical(avg_third_icr) ] for i in 1:7]\n",
    "for i in 1:3\n",
    "    push!(icrvec, Categorical{Float64}[])\n",
    "end\n",
    "icrcycle = Cycle(  icrvec )\n",
    "no_icrs = Cycle( [Categorical{Float64}[]] );"
   ]
  },
  {
   "cell_type": "markdown",
   "metadata": {},
   "source": [
    "### Deck simulation"
   ]
  },
  {
   "cell_type": "markdown",
   "metadata": {},
   "source": [
    "Building the decks in a random order but the same order for every scenario:"
   ]
  },
  {
   "cell_type": "code",
   "execution_count": 10,
   "metadata": {},
   "outputs": [
    {
     "data": {
      "text/plain": [
       "pregenerated_shuffle (generic function with 1 method)"
      ]
     },
     "execution_count": 10,
     "metadata": {},
     "output_type": "execute_result"
    }
   ],
   "source": [
    "Random.seed!(1234)\n",
    "const global pregenerated_permutations = [ Random.randperm(length(decks)) for i in 1:5001 ]\n",
    "function pregenerated_shuffle(i,x)\n",
    "    perm = pregenerated_permutations[i]\n",
    "    deepcopy(x)[perm]\n",
    "end"
   ]
  },
  {
   "cell_type": "markdown",
   "metadata": {},
   "source": [
    "Simulate both scenarios, with and without duplicate prevention enabled:"
   ]
  },
  {
   "cell_type": "code",
   "execution_count": 11,
   "metadata": {},
   "outputs": [],
   "source": [
    "Random.seed!(12346)\n",
    "result_base = shufflesim(deckinfo.(decks); \n",
    "    parameters = SimParameters(prevent_duplicates = false, icrs_per_pack = no_icrs ),\n",
    "    reps = 100, batchsize = 10, shuffledecks = pregenerated_shuffle);\n",
    "\n",
    "result_noduplicates =  shufflesim(deckinfo.(decks); \n",
    "    parameters = SimParameters(prevent_duplicates = true,  icrs_per_pack = no_icrs  ),\n",
    "    reps = 100, batchsize = 10, shuffledecks = pregenerated_shuffle);"
   ]
  },
  {
   "cell_type": "code",
   "execution_count": 12,
   "metadata": {},
   "outputs": [],
   "source": [
    "result_icr =  shufflesim(deckinfo.(decks); \n",
    "    parameters = SimParameters(prevent_duplicates = false, icrs_per_pack = icrcycle ),\n",
    "    reps = 100, batchsize = 10, shuffledecks = pregenerated_shuffle);\n",
    "\n",
    "result_icr_noduplicates =  shufflesim(deckinfo.(decks); \n",
    "    parameters = SimParameters(prevent_duplicates = true, icrs_per_pack = icrcycle ),\n",
    "    reps = 100, batchsize = 10, shuffledecks = pregenerated_shuffle);"
   ]
  },
  {
   "cell_type": "markdown",
   "metadata": {},
   "source": [
    "### Case 1 Results\n",
    "The difference in the number of packs opened to reach each deck between any of the scenarios is minimal, smaller than many of the other uncertainties:"
   ]
  },
  {
   "cell_type": "code",
   "execution_count": 13,
   "metadata": {},
   "outputs": [
    {
     "name": "stdout",
     "output_type": "stream",
     "text": [
      "4×13 Array{Any,2}:\n",
      " \"Duplicates, no ICRs\"     88.475  78.255  64.355  59.536  52.905  47.204  40.57   32.795  31.799  30.753  27.367  23.578\n",
      " \"No Duplicates, No ICRs\"  88.754  77.286  63.743  59.933  53.347  48.299  41.714  34.254  32.872  31.841  26.678  23.178\n",
      " \"Duplicates, ICRs\"        85.912  72.661  59.578  53.595  45.827  39.42   32.946  27.321  26.681  25.121  22.314  18.211\n",
      " \"No Duplicates, ICRs\"     85.463  71.567  59.484  53.521  45.641  41.272  34.38   28.57   26.118  25.465  21.891  18.942"
     ]
    }
   ],
   "source": [
    "show(\n",
    "    IOContext(stdout, :limit => false), \"text/plain\", \n",
    "    hcat(\n",
    "        [\"Duplicates, no ICRs\"; \"No Duplicates, No ICRs\"; \"Duplicates, ICRs\"; \"No Duplicates, ICRs\"],\n",
    "    vcat(\n",
    "    mean(reduce(+, values(result_base.packs_opened)), dims = 1),\n",
    "    mean(reduce(+, values(result_noduplicates.packs_opened)), dims = 1),\n",
    "    mean(reduce(+, values(result_icr.packs_opened)), dims = 1),\n",
    "    mean(reduce(+, values(result_icr_noduplicates.packs_opened)), dims = 1)\n",
    "    )\n",
    "        )\n",
    ")"
   ]
  },
  {
   "cell_type": "markdown",
   "metadata": {},
   "source": [
    "## Case 2: Collecting a large number of rares\n",
    "\n",
    "### Scenario Setup\n",
    "1. Own 4x every card besides DOM\n",
    "2. Own only the DOM cards in the 5 monocolor tutorial decks\n",
    "3. Count packs to owning all the DOM rares under the above 4 scenarios"
   ]
  },
  {
   "cell_type": "code",
   "execution_count": 14,
   "metadata": {},
   "outputs": [
    {
     "data": {
      "text/plain": [
       "1-element Array{Array{Tuple{String,Int64},1},1}:\n",
       " [(\"Benalish Marshal\", 4), (\"Daring Archaeologist\", 4), (\"Evra, Halcyon Witness\", 4), (\"Fall of the Thran\", 4), (\"Shalai, Voice of Plenty\", 4), (\"Teshar, Ancestor's Apostle\", 4), (\"Urza's Ruinous Blast\", 4), (\"The Antiquities War\", 4), (\"Karn's Temporal Sundering\", 4), (\"The Mirari Conjecture\", 4)  …  (\"Traxos, Scourge of Kroog\", 4), (\"Cabal Stronghold\", 4), (\"Clifftop Retreat\", 4), (\"Hinterland Harbor\", 4), (\"Isolated Chapel\", 4), (\"Sulfur Falls\", 4), (\"Woodland Cemetery\", 4), (\"Niambi, Faithful Healer\", 4), (\"Chandra's Outburst\", 4), (\"Firesong and Sunspeaker\", 4)]"
      ]
     },
     "execution_count": 14,
     "metadata": {},
     "output_type": "execute_result"
    }
   ],
   "source": [
    "domrares = [ [(x[\"name\"],4) for x in filter(z -> z[\"set\"] == :DOM && z[\"rarity\"] == 3, ArenaSim.card_db)] ]"
   ]
  },
  {
   "cell_type": "code",
   "execution_count": 15,
   "metadata": {},
   "outputs": [],
   "source": [
    "newstarter = deepcopy(ArenaSim.basiccards)\n",
    "for i in findall(z -> z[\"set\"] != :DOM, ArenaSim.card_db)\n",
    "    newstarter[i] = 4\n",
    "end"
   ]
  },
  {
   "cell_type": "code",
   "execution_count": 16,
   "metadata": {},
   "outputs": [],
   "source": [
    "dom_base = shufflesim(deckinfo.(domrares); reps = 1, batchsize = 1000,\n",
    "    parameters = SimParameters(icrs_per_pack = no_icrs, starter_cards = newstarter, prevent_duplicates = false,\n",
    "        bonus_packs = Dict((s,0) for s in ArenaSim.sets)));\n",
    "dom_noduplicates = shufflesim(deckinfo.(domrares); reps = 1, batchsize = 1000,\n",
    "    parameters = SimParameters(icrs_per_pack = no_icrs, starter_cards = newstarter, prevent_duplicates = true,\n",
    "        bonus_packs = Dict((s,0) for s in ArenaSim.sets)));\n",
    "dom_icr = shufflesim(deckinfo.(domrares); reps = 1, batchsize = 1000,\n",
    "    parameters = SimParameters(icrs_per_pack = icrcycle, starter_cards = newstarter, prevent_duplicates = false,\n",
    "        bonus_packs = Dict((s,0) for s in ArenaSim.sets)));\n",
    "dom_icr_noduplicates = shufflesim(deckinfo.(domrares); reps = 1, batchsize = 1000,\n",
    "    parameters = SimParameters(icrs_per_pack = icrcycle, starter_cards = newstarter, prevent_duplicates = true,\n",
    "        bonus_packs = Dict((s,0) for s in ArenaSim.sets)));"
   ]
  },
  {
   "cell_type": "markdown",
   "metadata": {},
   "source": [
    "### Case 2 Results\n",
    "Here we see a more substantial boost from duplicate prevention.  A $\\approx16\\%$ reduction in packs needed in the No ICR case and a $\\approx39\\%$ reduction in the ICR case (although recall we are spending about $7\\%$ of our available gold on the QC entries).  The latter is big enough that we wonder what happens if we invest even more gold into QC."
   ]
  },
  {
   "cell_type": "code",
   "execution_count": 17,
   "metadata": {
    "scrolled": false
   },
   "outputs": [
    {
     "data": {
      "text/plain": [
       "4×2 Array{Any,2}:\n",
       " \"Duplicates, no ICRs\"     264.357\n",
       " \"No Duplicates, No ICRs\"  221.323\n",
       " \"Duplicates, ICRs\"        244.913\n",
       " \"No Duplicates, ICRs\"     151.177"
      ]
     },
     "execution_count": 17,
     "metadata": {},
     "output_type": "execute_result"
    }
   ],
   "source": [
    "hcat( [\"Duplicates, no ICRs\"; \"No Duplicates, No ICRs\"; \"Duplicates, ICRs\"; \"No Duplicates, ICRs\"],\n",
    "      [ mean(dom_base.total_packs); mean(dom_noduplicates.total_packs);mean(dom_icr.total_packs); mean(dom_icr_noduplicates.total_packs) ])"
   ]
  },
  {
   "cell_type": "markdown",
   "metadata": {},
   "source": [
    "Two QC runs per day is potentially enough gold bleed that we can't buy a pack every single day anymore.  Suppose we're down to 9 packs per week with 12 QC runs:"
   ]
  },
  {
   "cell_type": "code",
   "execution_count": 18,
   "metadata": {},
   "outputs": [
    {
     "data": {
      "text/plain": [
       "117.576"
      ]
     },
     "execution_count": 18,
     "metadata": {},
     "output_type": "execute_result"
    }
   ],
   "source": [
    "doubleicrvec = [[ Categorical(avg_first_icr), Categorical(avg_second_icr), Categorical(avg_third_icr), \n",
    "        Categorical(avg_first_icr), Categorical(avg_second_icr), Categorical(avg_third_icr) ] for i in 1:6]\n",
    "for i in 1:3\n",
    "    push!(doubleicrvec, Categorical{Float64}[])\n",
    "end\n",
    "\n",
    "dom_doubleicr_noduplicates = shufflesim(deckinfo.(domrares); reps = 1, batchsize = 1000,\n",
    "    parameters = SimParameters(icrs_per_pack = Cycle(doubleicrvec), starter_cards = newstarter, prevent_duplicates = true,\n",
    "        bonus_packs = Dict((s,0) for s in ArenaSim.sets)));\n",
    "mean(dom_doubleicr_noduplicates.total_packs)"
   ]
  },
  {
   "cell_type": "markdown",
   "metadata": {},
   "source": [
    "Incidentally, this is about how many packs you get under this regimen during the duration of one set, which justifies the plausibility of having all the rares besides the set of interest in the long-run."
   ]
  },
  {
   "cell_type": "code",
   "execution_count": 19,
   "metadata": {
    "scrolled": true
   },
   "outputs": [
    {
     "data": {
      "text/plain": [
       "117.0"
      ]
     },
     "execution_count": 19,
     "metadata": {},
     "output_type": "execute_result"
    }
   ],
   "source": [
    "9 * 52/4"
   ]
  },
  {
   "cell_type": "markdown",
   "metadata": {},
   "source": [
    "## Discussions and Concluding Thoughts"
   ]
  },
  {
   "cell_type": "markdown",
   "metadata": {},
   "source": [
    "As alluded to at the beginning, the simulation uses a conservative wildcard spending strategy that only spends them when there are enough to complete the targeted set of cards.  Many players probably use a more incremental strategy that increases the chance of receiving duplicates.  In this sense, duplicate prevention is likely a bit more helpful than the results presented here, especially in terms of player perception when they receive a duplicate soon after crafting a card.\n",
    "\n",
    "The bulk scenario does not mean full set completion.  We would likely be a nontrivial amount of mythics short of a full playset.  If you made it this far thanks for reading! "
   ]
  }
 ],
 "metadata": {
  "kernelspec": {
   "display_name": "Julia 0.7.0",
   "language": "julia",
   "name": "julia-0.7"
  },
  "language_info": {
   "file_extension": ".jl",
   "mimetype": "application/julia",
   "name": "julia",
   "version": "0.7.0"
  }
 },
 "nbformat": 4,
 "nbformat_minor": 2
}
