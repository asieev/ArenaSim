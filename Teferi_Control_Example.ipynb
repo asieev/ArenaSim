{
 "cells": [
  {
   "cell_type": "code",
   "execution_count": 1,
   "metadata": {
    "scrolled": true
   },
   "outputs": [
    {
     "name": "stderr",
     "output_type": "stream",
     "text": [
      "┌ Info: Precompiling ArenaSim [09fce650-8ef9-11e8-1aa4-31c92d7f482c]\n",
      "└ @ Base loading.jl:1187\n"
     ]
    }
   ],
   "source": [
    "using ArenaSim\n",
    "using Statistics"
   ]
  },
  {
   "cell_type": "code",
   "execution_count": 2,
   "metadata": {},
   "outputs": [],
   "source": [
    "deckfolder = joinpath(homedir(), \"packages/ArenaSim/decks/teferi_control_example\")\n",
    "mtgadecks = readdir(deckfolder)\n",
    "mtgadecks = map(fn -> ArenaSim.deckreader_mtga_format(joinpath(deckfolder, fn)), mtgadecks)\n",
    "mtgadecks = ArenaSim.deckinfo.(mtgadecks);"
   ]
  },
  {
   "cell_type": "code",
   "execution_count": 3,
   "metadata": {
    "scrolled": true
   },
   "outputs": [
    {
     "name": "stdout",
     "output_type": "stream",
     "text": [
      "(\"Torrential Gearhulk\", 1)\n",
      "(\"Fumigate\", 2)\n",
      "(\"Glimmer of Genius\", 2)\n",
      "(\"Negate\", 1)\n",
      "(\"Settle the Wreckage\", 3)\n",
      "(\"Essence Scatter\", 2)\n",
      "(\"Disallow\", 4)\n",
      "(\"Syncopate\", 2)\n",
      "(\"Blink of an Eye\", 1)\n",
      "(\"Commit // Memory\", 1)\n",
      "(\"Hieroglyphic Illumination\", 2)\n",
      "(\"Search for Azcanta // Azcanta, the Sunken Ruin\", 2)\n",
      "(\"Cast Out\", 3)\n",
      "(\"Seal Away\", 4)\n",
      "(\"Glacial Fortress\", 4)\n",
      "(\"Irrigated Farmland\", 4)\n",
      "(\"Meandering River\", 2)\n",
      "(\"Field of Ruin\", 2)\n",
      "(\"Arch of Orazca\", 1)\n",
      "(\"Teferi, Hero of Dominaria\", 4)\n",
      "(\"Negate\", 2)\n",
      "(\"Fumigate\", 1)\n",
      "(\"Torrential Gearhulk\", 2)\n",
      "(\"Kefnet the Mindful\", 1)\n",
      "(\"Nezahal, Primal Tide\", 1)\n",
      "(\"Lyra Dawnbringer\", 3)\n",
      "(\"Forsake the Worldly\", 2)\n",
      "(\"Jace's Defeat\", 1)\n",
      "(\"Sorcerous Spyglass\", 1)\n",
      "(\"Aether Meltdown\", 1)\n"
     ]
    }
   ],
   "source": [
    "for card in mtgadecks[1]\n",
    "    println( (card.name, card.amount))\n",
    "end"
   ]
  },
  {
   "cell_type": "code",
   "execution_count": 4,
   "metadata": {},
   "outputs": [
    {
     "data": {
      "text/plain": [
       "summarize_results (generic function with 1 method)"
      ]
     },
     "execution_count": 4,
     "metadata": {},
     "output_type": "execute_result"
    }
   ],
   "source": [
    "function summarize_results(packs_opened)\n",
    "    display(Dict( (k, mean(vec(v))) for (k,v) in packs_opened))\n",
    "    display(\"Total (10%, mean, 90%):\")\n",
    "    display((x -> (quantile(vec(x), .1), mean(vec(x)), quantile(vec(x),.9)))( reduce(+, values(packs_opened)) ))\n",
    "end"
   ]
  },
  {
   "cell_type": "markdown",
   "metadata": {},
   "source": [
    "# Account starts with literally nothing (inaccurate)"
   ]
  },
  {
   "cell_type": "code",
   "execution_count": 5,
   "metadata": {},
   "outputs": [
    {
     "data": {
      "text/plain": [
       "Dict{Symbol,Float64} with 8 entries:\n",
       "  :DOM => 44.9174\n",
       "  :XLN => 67.7534\n",
       "  :HOU => 0.0\n",
       "  :M19 => 0.0\n",
       "  :RIX => 0.0\n",
       "  :AER => 0.0171\n",
       "  :AKH => 5.2624\n",
       "  :KLD => 3.4642"
      ]
     },
     "metadata": {},
     "output_type": "display_data"
    },
    {
     "data": {
      "text/plain": [
       "\"Total (10%, mean, 90%):\""
      ]
     },
     "metadata": {},
     "output_type": "display_data"
    },
    {
     "data": {
      "text/plain": [
       "(105.0, 121.4145, 138.0)"
      ]
     },
     "metadata": {},
     "output_type": "display_data"
    }
   ],
   "source": [
    "res = simulate(10000, ArenaSim.deckinfo.(mtgadecks);\n",
    "    parameters = ArenaSim.SimParameters(welcome_bundle = false,\n",
    "        kaladesh_grant = false, starter_cards = zeros(Int, length(ArenaSim.startercards)),\n",
    "        bonus_packs = Dict( :M19 => 0)));\n",
    "summarize_results(res.packs_opened)"
   ]
  },
  {
   "cell_type": "markdown",
   "metadata": {},
   "source": [
    "# Starting Account, no NPE\n",
    "3 packs of M19, spend starting gold on best set from above results"
   ]
  },
  {
   "cell_type": "code",
   "execution_count": 6,
   "metadata": {},
   "outputs": [
    {
     "data": {
      "text/plain": [
       "Dict{Symbol,Float64} with 8 entries:\n",
       "  :DOM => 38.7019\n",
       "  :XLN => 67.1487\n",
       "  :HOU => 0.0\n",
       "  :M19 => 0.0\n",
       "  :RIX => 0.0\n",
       "  :AER => 0.0068\n",
       "  :AKH => 4.8477\n",
       "  :KLD => 3.1865"
      ]
     },
     "metadata": {},
     "output_type": "display_data"
    },
    {
     "data": {
      "text/plain": [
       "\"Total (10%, mean, 90%):\""
      ]
     },
     "metadata": {},
     "output_type": "display_data"
    },
    {
     "data": {
      "text/plain": [
       "(98.0, 113.8916, 130.0)"
      ]
     },
     "metadata": {},
     "output_type": "display_data"
    }
   ],
   "source": [
    "res = simulate(10000, ArenaSim.deckinfo.(mtgadecks);\n",
    "    parameters = ArenaSim.SimParameters(welcome_bundle = false,\n",
    "        kaladesh_grant = false,starter_cards = zeros(Int, length(ArenaSim.startercards)),\n",
    "        bonus_packs = Dict( :M19 => 3, :DOM => 5)));\n",
    "summarize_results(res.packs_opened)"
   ]
  },
  {
   "cell_type": "markdown",
   "metadata": {},
   "source": [
    "# Starting Account, no NPE, Welcome Bundle"
   ]
  },
  {
   "cell_type": "code",
   "execution_count": 7,
   "metadata": {},
   "outputs": [
    {
     "data": {
      "text/plain": [
       "Dict{Symbol,Float64} with 8 entries:\n",
       "  :DOM => 30.5498\n",
       "  :XLN => 63.3124\n",
       "  :HOU => 0.0\n",
       "  :M19 => 0.0\n",
       "  :RIX => 0.0\n",
       "  :AER => 0.0007\n",
       "  :AKH => 3.0064\n",
       "  :KLD => 1.5958"
      ]
     },
     "metadata": {},
     "output_type": "display_data"
    },
    {
     "data": {
      "text/plain": [
       "\"Total (10%, mean, 90%):\""
      ]
     },
     "metadata": {},
     "output_type": "display_data"
    },
    {
     "data": {
      "text/plain": [
       "(83.0, 98.4651, 113.0)"
      ]
     },
     "metadata": {},
     "output_type": "display_data"
    }
   ],
   "source": [
    "res = simulate(10000, ArenaSim.deckinfo.(mtgadecks);\n",
    "    parameters = ArenaSim.SimParameters(welcome_bundle = true,\n",
    "        kaladesh_grant = false,starter_cards = zeros(Int, length(ArenaSim.startercards)),\n",
    "        bonus_packs = Dict( :M19 => 3, :DOM => 5)));\n",
    "summarize_results(res.packs_opened)"
   ]
  },
  {
   "cell_type": "markdown",
   "metadata": {},
   "source": [
    "# Starting Account, NPE complete, Welcome Bundle\n",
    "Not truly representative of someone who wants to buy in on literally day 1, as this takes a month to complete.  \n",
    "\n",
    "In 4 weeks:\n",
    "\n",
    "* 10 M19 packs from NPE\n",
    "* 12 M19 packs from weekly quests\n",
    "* 2500 gold from NPE\n",
    "* 17850 gold from quest + 1 win on most days ( (600 + 250) * 21 )\n",
    "\n",
    "Split the gold between DOM and XLN for 10 packs each relative to above scenario"
   ]
  },
  {
   "cell_type": "code",
   "execution_count": 8,
   "metadata": {},
   "outputs": [
    {
     "data": {
      "text/plain": [
       "Dict{Symbol,Float64} with 8 entries:\n",
       "  :DOM => 22.6141\n",
       "  :XLN => 30.4176\n",
       "  :HOU => 0.0\n",
       "  :M19 => 0.0\n",
       "  :RIX => 0.0\n",
       "  :AER => 0.0016\n",
       "  :AKH => 2.534\n",
       "  :KLD => 1.1225"
      ]
     },
     "metadata": {},
     "output_type": "display_data"
    },
    {
     "data": {
      "text/plain": [
       "\"Total (10%, mean, 90%):\""
      ]
     },
     "metadata": {},
     "output_type": "display_data"
    },
    {
     "data": {
      "text/plain": [
       "(41.0, 56.6898, 71.0)"
      ]
     },
     "metadata": {},
     "output_type": "display_data"
    }
   ],
   "source": [
    "res = simulate(10000, ArenaSim.deckinfo.(mtgadecks);\n",
    "    parameters = ArenaSim.SimParameters(welcome_bundle = true,\n",
    "        kaladesh_grant = false,starter_cards = ArenaSim.startercards,\n",
    "        bonus_packs = Dict( :M19 => 25, :DOM => 15, :XLN => 10)));\n",
    "summarize_results(res.packs_opened)"
   ]
  }
 ],
 "metadata": {
  "kernelspec": {
   "display_name": "Julia 0.7.0-rc2",
   "language": "julia",
   "name": "julia-0.7"
  },
  "language_info": {
   "file_extension": ".jl",
   "mimetype": "application/julia",
   "name": "julia",
   "version": "0.7.0"
  }
 },
 "nbformat": 4,
 "nbformat_minor": 2
}
