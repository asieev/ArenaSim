{
 "cells": [
  {
   "cell_type": "code",
   "execution_count": 1,
   "metadata": {},
   "outputs": [],
   "source": [
    "using Distributions"
   ]
  },
  {
   "cell_type": "markdown",
   "metadata": {},
   "source": [
    "A player with a fixed winrate has a number of wins following the [Negative Binomial Distribution](https://en.wikipedia.org/wiki/Negative_binomial_distribution).  However, you can't continue winning indefinitely, so the distribution is truncated with all the probability mass above the maximum number of wins being placed instead on the maximum win amount."
   ]
  },
  {
   "cell_type": "code",
   "execution_count": 2,
   "metadata": {},
   "outputs": [
    {
     "data": {
      "text/plain": [
       "pdfnegbin_truncated (generic function with 1 method)"
      ]
     },
     "execution_count": 2,
     "metadata": {},
     "output_type": "execute_result"
    }
   ],
   "source": [
    "cdfnegbin(k; p, r) = one(k) - cdf(Beta(k+one(k),r),p)\n",
    "pdfnegbin(k;p,r) = binomial( k+r - one(k), k) * (one(p) - p)^r * (p^k)\n",
    "meannegbin(p,r) = (p*r) / (1 - p)\n",
    "\n",
    "\n",
    "function pdfnegbin_truncated(k; p, r, maxwins)\n",
    "    if k < maxwins\n",
    "        pdfnegbin(k; p = p, r = r)\n",
    "    elseif k == maxwins\n",
    "        pdfnegbin(maxwins; p = p, r = r) + (1 - cdfnegbin(maxwins; p = p, r = r))\n",
    "    else \n",
    "        zero(pdfnegbin(k; p = p, r = r))\n",
    "    end\n",
    "end\n"
   ]
  },
  {
   "cell_type": "code",
   "execution_count": 3,
   "metadata": {},
   "outputs": [],
   "source": [
    "@enum Rarity common uncommon rare mythic"
   ]
  },
  {
   "cell_type": "markdown",
   "metadata": {},
   "source": [
    "Function to compare expected gold for a given winrate as well as gold for duplicates and percentage of playsets of each rarity:"
   ]
  },
  {
   "cell_type": "code",
   "execution_count": 4,
   "metadata": {
    "scrolled": true
   },
   "outputs": [
    {
     "data": {
      "text/plain": [
       "compare_gold_ev (generic function with 1 method)"
      ]
     },
     "execution_count": 4,
     "metadata": {},
     "output_type": "execute_result"
    }
   ],
   "source": [
    "function compare_gold_ev(; winrate, r = 3, maxwins = 7, completion_pct, gold_duplicates, \n",
    "        uc_r_upgrade = 0.10, uc_m_upgrade = 0.05, r_m_upgrade = 0.15)\n",
    "    \n",
    "    uc_icr = (1 - uc_r_upgrade - uc_m_upgrade) * gold_duplicates[uncommon] * completion_pct[uncommon] +\n",
    "     uc_r_upgrade * gold_duplicates[rare] * completion_pct[rare] +\n",
    "     uc_m_upgrade * gold_duplicates[mythic] * completion_pct[mythic]\n",
    "    \n",
    "    rare_icr = (1 - r_m_upgrade) * gold_duplicates[rare] * completion_pct[rare] +\n",
    "     r_m_upgrade * gold_duplicates[mythic] * completion_pct[mythic]\n",
    "    \n",
    "    qc_payoff2 = Dict(\n",
    "        0 => 100 + 3 * uc_icr,\n",
    "        1 => 200 + 3 * uc_icr,\n",
    "        2 => 300 + 3 * uc_icr,\n",
    "        3 => 400 + 3 * uc_icr,\n",
    "        4 => 500 + 2 * uc_icr + rare_icr,\n",
    "        5 => 600 + 2 * uc_icr + rare_icr,\n",
    "        6 => 800 + 1 * uc_icr + 2 * rare_icr,\n",
    "        7 => 1000 + uc_icr + 2 * rare_icr\n",
    "    )\n",
    "    \n",
    "    qc_payoff1 = Dict(\n",
    "        0 => 100,\n",
    "        1 => 200,\n",
    "        2 => 300,\n",
    "        3 => 400,\n",
    "        4 => 500,\n",
    "        5 => 600,\n",
    "        6 => 800,\n",
    "        7 => 1000\n",
    "    )\n",
    "    \n",
    "    x = [ (i, qc_payoff1[i], qc_payoff2[i], pdfnegbin_truncated(i; p = winrate, r = r, maxwins = maxwins)) for i in 0:7]\n",
    "    \n",
    "    oldavg = sum( z[2] * z[4] for z in x )\n",
    "    newavg  = sum( z[3] * z[4] for z in x )\n",
    "    avgwins = sum( z[1] * z[4] for z in x)\n",
    "    (oldavg = oldavg, newavg = newavg, ratio = newavg / oldavg, avgwins = avgwins)\n",
    "end"
   ]
  },
  {
   "cell_type": "markdown",
   "metadata": {},
   "source": [
    "Positive expected gold with sub-50% winrate with no rares:"
   ]
  },
  {
   "cell_type": "code",
   "execution_count": 5,
   "metadata": {},
   "outputs": [
    {
     "data": {
      "text/plain": [
       "(oldavg = 398.1007976072926, newavg = 506.17869943346034, ratio = 1.2714837610870136, avgwins = 2.7688214308376375)"
      ]
     },
     "execution_count": 5,
     "metadata": {},
     "output_type": "execute_result"
    }
   ],
   "source": [
    "compare_gold_ev(winrate = 0.49;\n",
    " completion_pct = Dict(\n",
    "    common => 1,\n",
    "    uncommon => 1,\n",
    "    rare => 0.0,\n",
    "    mythic => 0.0\n",
    "), gold_duplicates = Dict(\n",
    "    common => 25,\n",
    "    uncommon => 50,\n",
    "    rare => 100,\n",
    "    mythic => 200\n",
    "    )\n",
    ")"
   ]
  },
  {
   "cell_type": "markdown",
   "metadata": {},
   "source": [
    "Another scenario that is more extreme but not too far-fetched for semi-dedicated players long after release:"
   ]
  },
  {
   "cell_type": "code",
   "execution_count": 6,
   "metadata": {
    "scrolled": true
   },
   "outputs": [
    {
     "data": {
      "text/plain": [
       "(oldavg = 549.7947136, newavg = 725.7695756800001, ratio = 1.3200737615822724, avgwins = 3.9507655680000004)"
      ]
     },
     "execution_count": 6,
     "metadata": {},
     "output_type": "execute_result"
    }
   ],
   "source": [
    "result = compare_gold_ev(winrate = 0.60;\n",
    " completion_pct = Dict(\n",
    "    common => 1,\n",
    "    uncommon => 1,\n",
    "    rare => 0.7,\n",
    "    mythic => 0.4\n",
    "), gold_duplicates = Dict(\n",
    "    common => 25,\n",
    "    uncommon => 50,\n",
    "    rare => 100,\n",
    "    mythic => 200\n",
    "    )\n",
    ")"
   ]
  },
  {
   "cell_type": "markdown",
   "metadata": {},
   "source": [
    "In terms of % of pack per win, this is quite a bit higher than Hearthstone, **in addition to** the more frontloaded daily/weekly rewards.  Would it be nice? Sure.  It might be too good to be true though."
   ]
  },
  {
   "cell_type": "code",
   "execution_count": 7,
   "metadata": {},
   "outputs": [
    {
     "data": {
      "text/plain": [
       "(0.05714577891147605, 0.03333333333333333)"
      ]
     },
     "execution_count": 7,
     "metadata": {},
     "output_type": "execute_result"
    }
   ],
   "source": [
    "(result.newavg - 500) / 1000 / result.avgwins, 10/100/3"
   ]
  }
 ],
 "metadata": {
  "kernelspec": {
   "display_name": "Julia 0.7.0",
   "language": "julia",
   "name": "julia-0.7"
  },
  "language_info": {
   "file_extension": ".jl",
   "mimetype": "application/julia",
   "name": "julia",
   "version": "0.7.0"
  }
 },
 "nbformat": 4,
 "nbformat_minor": 2
}
